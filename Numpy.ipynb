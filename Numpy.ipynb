{
 "cells": [
  {
   "cell_type": "markdown",
   "id": "0faf37ca",
   "metadata": {},
   "source": [
    "# INTRODUCTION TO NUMPY"
   ]
  },
  {
   "cell_type": "markdown",
   "id": "956bf34f",
   "metadata": {},
   "source": [
    "Single dimensional Array"
   ]
  },
  {
   "cell_type": "code",
   "execution_count": 1,
   "id": "be8fdb06",
   "metadata": {},
   "outputs": [
    {
     "data": {
      "text/plain": [
       "array([10, 20, 30, 40])"
      ]
     },
     "execution_count": 1,
     "metadata": {},
     "output_type": "execute_result"
    }
   ],
   "source": [
    "import numpy as np\n",
    "n1=np.array([10,20,30,40])\n",
    "n1"
   ]
  },
  {
   "cell_type": "markdown",
   "id": "fa64609f",
   "metadata": {},
   "source": [
    "Multi-dimensional Array"
   ]
  },
  {
   "cell_type": "code",
   "execution_count": 2,
   "id": "73c3ec04",
   "metadata": {},
   "outputs": [
    {
     "data": {
      "text/plain": [
       "array([[10, 20, 30, 40],\n",
       "       [50, 60, 70, 80]])"
      ]
     },
     "execution_count": 2,
     "metadata": {},
     "output_type": "execute_result"
    }
   ],
   "source": [
    "import numpy as np\n",
    "n2=np.array([[10,20,30,40],[50,60,70,80]])\n",
    "n2"
   ]
  },
  {
   "cell_type": "code",
   "execution_count": 3,
   "id": "e24bdee2",
   "metadata": {},
   "outputs": [
    {
     "name": "stdout",
     "output_type": "stream",
     "text": [
      "<class 'numpy.ndarray'>\n",
      "<class 'numpy.ndarray'>\n"
     ]
    }
   ],
   "source": [
    "print(type(n1))\n",
    "print(type(n2))"
   ]
  },
  {
   "cell_type": "markdown",
   "id": "546415b1",
   "metadata": {},
   "source": [
    "Intializing Numpy with zeros"
   ]
  },
  {
   "cell_type": "code",
   "execution_count": 6,
   "id": "d0ff09b7",
   "metadata": {},
   "outputs": [
    {
     "data": {
      "text/plain": [
       "array([[0., 0., 0.],\n",
       "       [0., 0., 0.]])"
      ]
     },
     "execution_count": 6,
     "metadata": {},
     "output_type": "execute_result"
    }
   ],
   "source": [
    "import numpy as np\n",
    "n3=np.zeros((2,3))\n",
    "n3"
   ]
  },
  {
   "cell_type": "code",
   "execution_count": 7,
   "id": "cf28a5a0",
   "metadata": {},
   "outputs": [
    {
     "data": {
      "text/plain": [
       "array([[0., 0., 0., 0., 0.],\n",
       "       [0., 0., 0., 0., 0.],\n",
       "       [0., 0., 0., 0., 0.]])"
      ]
     },
     "execution_count": 7,
     "metadata": {},
     "output_type": "execute_result"
    }
   ],
   "source": [
    "import numpy as np\n",
    "n4=np.zeros((3,5))\n",
    "n4"
   ]
  },
  {
   "cell_type": "markdown",
   "id": "19cbf4cb",
   "metadata": {},
   "source": [
    "Initializing Numpy array with the same Element"
   ]
  },
  {
   "cell_type": "code",
   "execution_count": 8,
   "id": "759bf380",
   "metadata": {},
   "outputs": [
    {
     "data": {
      "text/plain": [
       "array([[10, 10, 10],\n",
       "       [10, 10, 10]])"
      ]
     },
     "execution_count": 8,
     "metadata": {},
     "output_type": "execute_result"
    }
   ],
   "source": [
    "import numpy as np\n",
    "n5=np.full((2,3),10)\n",
    "n5"
   ]
  },
  {
   "cell_type": "code",
   "execution_count": 13,
   "id": "1d4941ac",
   "metadata": {},
   "outputs": [
    {
     "data": {
      "text/plain": [
       "array([[9, 9, 9, 9],\n",
       "       [9, 9, 9, 9]])"
      ]
     },
     "execution_count": 13,
     "metadata": {},
     "output_type": "execute_result"
    }
   ],
   "source": [
    "n6=np.full((2,4),9)\n",
    "n6"
   ]
  },
  {
   "cell_type": "markdown",
   "id": "df278581",
   "metadata": {},
   "source": [
    "Initializing numpy array within range"
   ]
  },
  {
   "cell_type": "code",
   "execution_count": 15,
   "id": "f547e353",
   "metadata": {},
   "outputs": [
    {
     "data": {
      "text/plain": [
       "array([10, 11, 12, 13, 14, 15, 16, 17, 18, 19, 20, 21, 22, 23, 24, 25, 26,\n",
       "       27, 28, 29, 30, 31, 32, 33, 34, 35, 36, 37, 38, 39, 40, 41, 42, 43,\n",
       "       44, 45, 46, 47, 48, 49])"
      ]
     },
     "execution_count": 15,
     "metadata": {},
     "output_type": "execute_result"
    }
   ],
   "source": [
    "import numpy as np\n",
    "n7=np.arange(10,50)\n",
    "n7"
   ]
  },
  {
   "cell_type": "code",
   "execution_count": 17,
   "id": "e276ca97",
   "metadata": {},
   "outputs": [
    {
     "data": {
      "text/plain": [
       "array([10, 12, 14, 16, 18, 20, 22, 24, 26, 28, 30, 32, 34, 36, 38, 40, 42,\n",
       "       44, 46, 48, 50, 52, 54, 56, 58])"
      ]
     },
     "execution_count": 17,
     "metadata": {},
     "output_type": "execute_result"
    }
   ],
   "source": [
    "n8=np.arange(10,60,2)\n",
    "n8"
   ]
  },
  {
   "cell_type": "markdown",
   "id": "d0e5d795",
   "metadata": {},
   "source": [
    "Initializing numpy array with random numbers"
   ]
  },
  {
   "cell_type": "code",
   "execution_count": 20,
   "id": "2a184239",
   "metadata": {},
   "outputs": [
    {
     "data": {
      "text/plain": [
       "array([345, 882, 834, 556, 403, 639, 273, 756, 484, 529])"
      ]
     },
     "execution_count": 20,
     "metadata": {},
     "output_type": "execute_result"
    }
   ],
   "source": [
    "import numpy as np\n",
    "n9=np.random.randint(100,1000,10)\n",
    "n9"
   ]
  },
  {
   "cell_type": "markdown",
   "id": "355abc23",
   "metadata": {},
   "source": [
    " Checking the shape of numpy array "
   ]
  },
  {
   "cell_type": "code",
   "execution_count": 21,
   "id": "e9dd49cc",
   "metadata": {},
   "outputs": [
    {
     "data": {
      "text/plain": [
       "(2, 3)"
      ]
     },
     "execution_count": 21,
     "metadata": {},
     "output_type": "execute_result"
    }
   ],
   "source": [
    "import numpy as np\n",
    "n10=np.array([[1,2,3],[4,5,6]])\n",
    "n10.shape"
   ]
  },
  {
   "cell_type": "code",
   "execution_count": 22,
   "id": "601998f6",
   "metadata": {},
   "outputs": [
    {
     "data": {
      "text/plain": [
       "(3, 2)"
      ]
     },
     "execution_count": 22,
     "metadata": {},
     "output_type": "execute_result"
    }
   ],
   "source": [
    "n10.shape=(3,2)\n",
    "n10.shape"
   ]
  },
  {
   "cell_type": "code",
   "execution_count": 23,
   "id": "0163ffcb",
   "metadata": {},
   "outputs": [
    {
     "data": {
      "text/plain": [
       "array([[1, 2],\n",
       "       [3, 4],\n",
       "       [5, 6]])"
      ]
     },
     "execution_count": 23,
     "metadata": {},
     "output_type": "execute_result"
    }
   ],
   "source": [
    "n10\n"
   ]
  },
  {
   "cell_type": "markdown",
   "id": "8d45dbfe",
   "metadata": {},
   "source": [
    "# Joining Numpy Arrays"
   ]
  },
  {
   "cell_type": "markdown",
   "id": "0832fbc7",
   "metadata": {},
   "source": [
    "S T A C K S()"
   ]
  },
  {
   "cell_type": "code",
   "execution_count": 26,
   "id": "a7c2c3fa",
   "metadata": {},
   "outputs": [],
   "source": [
    "import numpy as np\n",
    "n11=np.array([10,20,30])\n",
    "n12=np.array([40,50,60])"
   ]
  },
  {
   "cell_type": "code",
   "execution_count": 27,
   "id": "f160dfc3",
   "metadata": {},
   "outputs": [
    {
     "data": {
      "text/plain": [
       "array([[10, 20, 30],\n",
       "       [40, 50, 60]])"
      ]
     },
     "execution_count": 27,
     "metadata": {},
     "output_type": "execute_result"
    }
   ],
   "source": [
    "#vstack()\n",
    "np.vstack((n11,n12))"
   ]
  },
  {
   "cell_type": "code",
   "execution_count": 28,
   "id": "397bc0e4",
   "metadata": {},
   "outputs": [
    {
     "data": {
      "text/plain": [
       "array([10, 20, 30, 40, 50, 60])"
      ]
     },
     "execution_count": 28,
     "metadata": {},
     "output_type": "execute_result"
    }
   ],
   "source": [
    "#hstack()\n",
    "np.hstack((n11,n12))"
   ]
  },
  {
   "cell_type": "code",
   "execution_count": 29,
   "id": "fc378cb4",
   "metadata": {},
   "outputs": [
    {
     "data": {
      "text/plain": [
       "array([[10, 40],\n",
       "       [20, 50],\n",
       "       [30, 60]])"
      ]
     },
     "execution_count": 29,
     "metadata": {},
     "output_type": "execute_result"
    }
   ],
   "source": [
    "#column_stack()\n",
    "np.column_stack((n11,n12))"
   ]
  },
  {
   "cell_type": "code",
   "execution_count": null,
   "id": "1608fd92",
   "metadata": {},
   "outputs": [],
   "source": []
  }
 ],
 "metadata": {
  "kernelspec": {
   "display_name": "Python 3 (ipykernel)",
   "language": "python",
   "name": "python3"
  },
  "language_info": {
   "codemirror_mode": {
    "name": "ipython",
    "version": 3
   },
   "file_extension": ".py",
   "mimetype": "text/x-python",
   "name": "python",
   "nbconvert_exporter": "python",
   "pygments_lexer": "ipython3",
   "version": "3.9.7"
  }
 },
 "nbformat": 4,
 "nbformat_minor": 5
}
