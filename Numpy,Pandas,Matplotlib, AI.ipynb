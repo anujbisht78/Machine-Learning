{
 "cells": [
  {
   "cell_type": "markdown",
   "id": "13f9245b",
   "metadata": {},
   "source": [
    "# NUMPY IN ARZEO "
   ]
  },
  {
   "cell_type": "markdown",
   "id": "882fcfc3",
   "metadata": {},
   "source": [
    "np.zeros\n"
   ]
  },
  {
   "cell_type": "code",
   "execution_count": null,
   "id": "ee323342",
   "metadata": {},
   "outputs": [],
   "source": [
    "import numpy as np\n",
    "n1=np.zeros((2,2))\n",
    "print(n1)\n",
    "print(n1.ndim)\n",
    "print(n1.size)\n",
    "print(n1.shape)\n",
    "print(n1.dtype)"
   ]
  },
  {
   "cell_type": "code",
   "execution_count": 4,
   "id": "4e7fda2e",
   "metadata": {},
   "outputs": [
    {
     "name": "stdout",
     "output_type": "stream",
     "text": [
      "[0. 0. 0. 0. 0.]\n",
      "1\n",
      "5\n",
      "(5,)\n",
      "float64\n"
     ]
    }
   ],
   "source": [
    "n2=np.zeros((5))\n",
    "print(n2)\n",
    "print(n2.ndim)\n",
    "print(n2.size)\n",
    "print(n2.shape)\n",
    "print(n2.dtype)"
   ]
  },
  {
   "cell_type": "markdown",
   "id": "f8bf5733",
   "metadata": {},
   "source": [
    "np.ones"
   ]
  },
  {
   "cell_type": "code",
   "execution_count": 7,
   "id": "ebcb45b1",
   "metadata": {},
   "outputs": [
    {
     "name": "stdout",
     "output_type": "stream",
     "text": [
      "[[1 1 1 1]\n",
      " [1 1 1 1]\n",
      " [1 1 1 1]]\n",
      "2\n",
      "12\n",
      "(3, 4)\n",
      "int32\n",
      "<class 'numpy.ndarray'>\n"
     ]
    }
   ],
   "source": [
    "n3=np.ones((3,4),dtype=int)\n",
    "print(n3)\n",
    "print(n3.ndim)\n",
    "print(n3.size)\n",
    "print(n3.shape)\n",
    "print(n3.dtype)\n",
    "print(type(n3))"
   ]
  },
  {
   "cell_type": "code",
   "execution_count": 8,
   "id": "b98f6fe0",
   "metadata": {},
   "outputs": [
    {
     "name": "stdout",
     "output_type": "stream",
     "text": [
      "[[[1 1]\n",
      "  [1 1]\n",
      "  [1 1]\n",
      "  [1 1]]\n",
      "\n",
      " [[1 1]\n",
      "  [1 1]\n",
      "  [1 1]\n",
      "  [1 1]]\n",
      "\n",
      " [[1 1]\n",
      "  [1 1]\n",
      "  [1 1]\n",
      "  [1 1]]]\n",
      "3\n",
      "24\n",
      "(3, 4, 2)\n",
      "int32\n",
      "<class 'numpy.ndarray'>\n"
     ]
    }
   ],
   "source": [
    "n4=np.ones((3,4,2),dtype=int)\n",
    "print(n4)\n",
    "print(n4.ndim)\n",
    "print(n4.size)\n",
    "print(n4.shape)\n",
    "print(n4.dtype)\n",
    "print(type(n4))\n"
   ]
  },
  {
   "cell_type": "markdown",
   "id": "996edcda",
   "metadata": {},
   "source": [
    "# np.identity"
   ]
  },
  {
   "cell_type": "markdown",
   "id": "29370138",
   "metadata": {},
   "source": [
    "used to generate indentity matrix "
   ]
  },
  {
   "cell_type": "code",
   "execution_count": 14,
   "id": "fd6ebacb",
   "metadata": {},
   "outputs": [
    {
     "name": "stdout",
     "output_type": "stream",
     "text": [
      "[[1. 0. 0. 0. 0.]\n",
      " [0. 1. 0. 0. 0.]\n",
      " [0. 0. 1. 0. 0.]\n",
      " [0. 0. 0. 1. 0.]\n",
      " [0. 0. 0. 0. 1.]]\n",
      "2\n",
      "25\n",
      "(5, 5)\n",
      "float64\n",
      "<class 'numpy.ndarray'>\n"
     ]
    }
   ],
   "source": [
    "import numpy as np\n",
    "r=np.identity((5))\n",
    "print(r)\n",
    "print(r.ndim)\n",
    "print(r.size)\n",
    "print(r.shape)\n",
    "print(r.dtype)\n",
    "print(type(r))\n"
   ]
  },
  {
   "cell_type": "markdown",
   "id": "a61f53cf",
   "metadata": {},
   "source": [
    "np.linspace"
   ]
  },
  {
   "cell_type": "code",
   "execution_count": 21,
   "id": "e963429d",
   "metadata": {},
   "outputs": [
    {
     "name": "stdout",
     "output_type": "stream",
     "text": [
      "[ 2.  4.  6.  8. 10.]\n",
      "[ 2.          4.66666667  7.33333333 10.        ]\n",
      "[ 2.  6. 10.]\n",
      "[10.         11.11111111 12.22222222 13.33333333 14.44444444 15.55555556\n",
      " 16.66666667 17.77777778 18.88888889 20.        ]\n",
      "[ 5. 15.]\n"
     ]
    }
   ],
   "source": [
    "t1=np.linspace(2,10,5)\n",
    "print(t1)\n",
    "t2=np.linspace(2,10,4)\n",
    "print(t2)\n",
    "t3=np.linspace(2,10,3)\n",
    "print(t3)\n",
    "t4=np.linspace(10,20,10)\n",
    "print(t4)\n",
    "t5=np.linspace(5,15,2)\n",
    "print(t5)"
   ]
  },
  {
   "cell_type": "markdown",
   "id": "5827b15d",
   "metadata": {},
   "source": [
    "np.array "
   ]
  },
  {
   "cell_type": "code",
   "execution_count": 22,
   "id": "17b97254",
   "metadata": {},
   "outputs": [
    {
     "name": "stdout",
     "output_type": "stream",
     "text": [
      "[1 2 3 4 5 6 7]\n",
      "1\n",
      "7\n",
      "(7,)\n",
      "int32\n",
      "<class 'numpy.ndarray'>\n"
     ]
    }
   ],
   "source": [
    "n=np.array([1,2,3,4,5,6,7])\n",
    "print(n)\n",
    "print(n.ndim)\n",
    "print(n.size)\n",
    "print(n.shape)\n",
    "print(n.dtype)\n",
    "print(type(n))"
   ]
  },
  {
   "cell_type": "markdown",
   "id": "2c6c62b2",
   "metadata": {},
   "source": [
    "Creating numpy array using list and tuple "
   ]
  },
  {
   "cell_type": "code",
   "execution_count": 2,
   "id": "84dad0e2",
   "metadata": {},
   "outputs": [
    {
     "name": "stdout",
     "output_type": "stream",
     "text": [
      "[[1 2 3]\n",
      " [4 5 5]\n",
      " [2 4 6]]\n",
      "2\n",
      "9\n",
      "(3, 3)\n",
      "int32\n"
     ]
    }
   ],
   "source": [
    "import numpy as np\n",
    "a1=np.array(((1,2,3),(4,5,5),(2,4,6)))\n",
    "print(a1)\n",
    "print(a1.ndim)\n",
    "print(a1.size)\n",
    "print(a1.shape)\n",
    "print(a1.dtype)\n"
   ]
  },
  {
   "cell_type": "markdown",
   "id": "b4fc54f2",
   "metadata": {},
   "source": [
    "Reshaping the array"
   ]
  },
  {
   "cell_type": "code",
   "execution_count": 3,
   "id": "cdaeab04",
   "metadata": {},
   "outputs": [
    {
     "name": "stdout",
     "output_type": "stream",
     "text": [
      "[ 2  4  6  8 10 12 14 16 18 20]\n",
      "1\n",
      "(10,)\n",
      "10\n"
     ]
    }
   ],
   "source": [
    "r1=np.array([2,4,6,8,10,12,14,16,18,20])\n",
    "print(r1)\n",
    "print(r1.ndim)\n",
    "print(r1.shape)\n",
    "print(r1.size)"
   ]
  },
  {
   "cell_type": "markdown",
   "id": "fdfc90aa",
   "metadata": {},
   "source": [
    "After Reshape"
   ]
  },
  {
   "cell_type": "code",
   "execution_count": 4,
   "id": "a10ed8dc",
   "metadata": {},
   "outputs": [
    {
     "name": "stdout",
     "output_type": "stream",
     "text": [
      "[[ 2  4  6  8]\n",
      " [10 12 14 16]\n",
      " [18 20 22 24]]\n",
      "2\n",
      "(3, 4)\n",
      "12\n"
     ]
    }
   ],
   "source": [
    "r2=np.array([2,4,6,8,10,12,14,16,18,20,22,24]).reshape(3,4)\n",
    "print(r2)\n",
    "print(r2.ndim)\n",
    "print(r2.shape)\n",
    "print(r2.size)"
   ]
  },
  {
   "cell_type": "markdown",
   "id": "bca26511",
   "metadata": {},
   "source": [
    "Taking aray input from the user "
   ]
  },
  {
   "cell_type": "code",
   "execution_count": 5,
   "id": "2d649de8",
   "metadata": {},
   "outputs": [
    {
     "name": "stdout",
     "output_type": "stream",
     "text": [
      "Enter the size: 6\n",
      "Elements are:  [1 2 3 4 5 6]\n"
     ]
    }
   ],
   "source": [
    "n=int(input(\"Enter the size: \"))\n",
    "\n",
    "a1=np.array(list(range(1,n+1)))\n",
    "print(\"Elements are: \",a1)\n"
   ]
  },
  {
   "cell_type": "code",
   "execution_count": 42,
   "id": "168ebea9",
   "metadata": {},
   "outputs": [
    {
     "name": "stdout",
     "output_type": "stream",
     "text": [
      "[1,2,3,4,5]\n"
     ]
    }
   ],
   "source": [
    "size=5\n",
    "arr=np.array([1,2,3,4,5])\n",
    "print(\"[\",end=\"\")\n",
    "for i in arr:\n",
    "    print(i,end=\"\")\n",
    "    if i<size:\n",
    "        print(\",\",end=\"\")\n",
    "print(\"]\")"
   ]
  },
  {
   "cell_type": "markdown",
   "id": "41c1d407",
   "metadata": {},
   "source": [
    "Taking array input and printing as it is"
   ]
  },
  {
   "cell_type": "code",
   "execution_count": 6,
   "id": "13bb5fe6",
   "metadata": {},
   "outputs": [
    {
     "name": "stdout",
     "output_type": "stream",
     "text": [
      "Enter the Size: 6\n",
      "[0,1,2,3,4,5,]"
     ]
    }
   ],
   "source": [
    "size=int(input(\"Enter the Size: \"))\n",
    "arr=np.array(list(range(size)))\n",
    "print(\"[\",end=\"\")\n",
    "for i in arr:\n",
    "    print(i,end=\"\")\n",
    "    if i<size:\n",
    "        \n",
    "        print(\",\",end=\"\")\n",
    "print(\"]\",end=\"\")\n",
    "    "
   ]
  },
  {
   "cell_type": "code",
   "execution_count": 7,
   "id": "43a9ea24",
   "metadata": {},
   "outputs": [
    {
     "name": "stdout",
     "output_type": "stream",
     "text": [
      "Enter the Size: 9\n",
      "<built-in function array>2 4 6 8 9 2 1 5 5 \n",
      "{ 2   4   6   8   9   2   1   5   5   }"
     ]
    }
   ],
   "source": [
    "import numpy as np\n",
    "size=int(input(\"Enter the Size: \"))\n",
    "arr=(input(np.array))\n",
    "print(\"{\",end=\" \")\n",
    "for i in arr:\n",
    "    \n",
    "    print(i,end=\" \")\n",
    "    \n",
    "#     if i<size-1:\n",
    "        \n",
    "#         print(\",\",end=\"\")\n",
    "print(\"}\",end=\"\")\n",
    "    \n"
   ]
  },
  {
   "cell_type": "markdown",
   "id": "9e390bd1",
   "metadata": {},
   "source": [
    "np.arange"
   ]
  },
  {
   "cell_type": "code",
   "execution_count": 77,
   "id": "84a0a300",
   "metadata": {},
   "outputs": [
    {
     "name": "stdout",
     "output_type": "stream",
     "text": [
      "[10 11 12 13 14 15 16 17 18 19]\n"
     ]
    }
   ],
   "source": [
    "a1=np.arange(10,20)\n",
    "print(a1)"
   ]
  },
  {
   "cell_type": "code",
   "execution_count": 78,
   "id": "3a7fd685",
   "metadata": {},
   "outputs": [
    {
     "name": "stdout",
     "output_type": "stream",
     "text": [
      "[ 5  7  9 11 13 15 17 19]\n"
     ]
    }
   ],
   "source": [
    "a2=np.arange(5,20,2)\n",
    "print(a2)"
   ]
  },
  {
   "cell_type": "markdown",
   "id": "023b90dd",
   "metadata": {},
   "source": [
    "np.where"
   ]
  },
  {
   "cell_type": "code",
   "execution_count": 81,
   "id": "c1f32c31",
   "metadata": {},
   "outputs": [
    {
     "name": "stdout",
     "output_type": "stream",
     "text": [
      "(array([0, 2, 4, 6], dtype=int64),)\n",
      "[ 6 12 18 24]\n"
     ]
    }
   ],
   "source": [
    "arr=np.array([6,9,12,15,18,21,24])\n",
    "index=np.where(arr%2==0)\n",
    "print(index)\n",
    "print(arr[index])"
   ]
  },
  {
   "cell_type": "code",
   "execution_count": 84,
   "id": "9a674ff0",
   "metadata": {},
   "outputs": [
    {
     "name": "stdout",
     "output_type": "stream",
     "text": [
      "[ 6  9 12 15 18 21 24]\n",
      "[ 9  2 15  8 21 14 27]\n"
     ]
    }
   ],
   "source": [
    "print(arr)\n",
    "index1=np.where(arr%2==0,arr+3,arr-7)\n",
    "print(index1)"
   ]
  },
  {
   "cell_type": "code",
   "execution_count": 6,
   "id": "b1123a18",
   "metadata": {},
   "outputs": [
    {
     "name": "stdout",
     "output_type": "stream",
     "text": [
      "5\n",
      "[1,1,2,2,2,3]"
     ]
    }
   ],
   "source": [
    "\n",
    "import numpy as np\n",
    "arr = np.array([1,1,2,2,2,3])\n",
    "print(size)\n",
    "print(\"[\",end=\"\")\n",
    "for i in arr:\n",
    "    print(i,end=\"\")\n",
    "    if i < size-2:\n",
    "        print(\",\",end=\"\")\n",
    "print(\"]\",end=\"\")"
   ]
  },
  {
   "cell_type": "markdown",
   "id": "e24dc118",
   "metadata": {},
   "source": [
    "# PANDAS"
   ]
  },
  {
   "cell_type": "code",
   "execution_count": 1,
   "id": "1b32a0d4",
   "metadata": {},
   "outputs": [
    {
     "name": "stdout",
     "output_type": "stream",
     "text": [
      "0     2\n",
      "1     4\n",
      "2     6\n",
      "3     8\n",
      "4    10\n",
      "dtype: int64\n",
      "<class 'pandas.core.series.Series'>\n"
     ]
    }
   ],
   "source": [
    "import pandas as pd\n",
    "s1=pd.Series([2,4,6,8,10])\n",
    "print(s1)\n",
    "print(type(s1))"
   ]
  },
  {
   "cell_type": "code",
   "execution_count": 2,
   "id": "be2adfdd",
   "metadata": {},
   "outputs": [
    {
     "name": "stdout",
     "output_type": "stream",
     "text": [
      "RangeIndex(start=0, stop=5, step=1)\n"
     ]
    }
   ],
   "source": [
    "#how to search indexes\n",
    "print(s1.index)"
   ]
  },
  {
   "cell_type": "code",
   "execution_count": 3,
   "id": "8957b55c",
   "metadata": {},
   "outputs": [
    {
     "name": "stdout",
     "output_type": "stream",
     "text": [
      "[ 2  4  6  8 10]\n"
     ]
    }
   ],
   "source": [
    "#how to get only values \n",
    "print(s1.values)"
   ]
  },
  {
   "cell_type": "code",
   "execution_count": 5,
   "id": "76eeb970",
   "metadata": {},
   "outputs": [
    {
     "name": "stdout",
     "output_type": "stream",
     "text": [
      "[0, 1, 2, 3, 4]\n"
     ]
    }
   ],
   "source": [
    "#how to get only indexes\n",
    "print(s1.index.tolist())"
   ]
  },
  {
   "cell_type": "code",
   "execution_count": 10,
   "id": "21ac5d76",
   "metadata": {},
   "outputs": [
    {
     "name": "stdout",
     "output_type": "stream",
     "text": [
      "5     1\n",
      "6     2\n",
      "7     3\n",
      "8     4\n",
      "9     5\n",
      "10    6\n",
      "11    7\n",
      "dtype: int64\n"
     ]
    }
   ],
   "source": [
    "#Indexes range can be changed\n",
    "import pandas as pd\n",
    "\n",
    "s=pd.Series([1,2,3,4,5,6,7],index=list(range(5,12)))\n",
    "print(s)"
   ]
  },
  {
   "cell_type": "code",
   "execution_count": 11,
   "id": "f597cae7",
   "metadata": {},
   "outputs": [
    {
     "name": "stdout",
     "output_type": "stream",
     "text": [
      "28\n",
      "4.0\n",
      "4.0\n",
      "5      1\n",
      "6      3\n",
      "7      6\n",
      "8     10\n",
      "9     15\n",
      "10    21\n",
      "11    28\n",
      "dtype: int64\n"
     ]
    }
   ],
   "source": [
    "print(s.sum())\n",
    "print(s.mean())\n",
    "print(s.median())\n",
    "print(s.cumsum())"
   ]
  },
  {
   "cell_type": "markdown",
   "id": "d80a30ec",
   "metadata": {},
   "source": [
    "Creating Series as List or Tuple"
   ]
  },
  {
   "cell_type": "code",
   "execution_count": null,
   "id": "bd77e5e4",
   "metadata": {},
   "outputs": [],
   "source": [
    "import pandas as pd\n",
    "list=[2,4,6,8,10,12]\n",
    "t1=(3,6,9,12,15,18)\n",
    "s1=pd.Series(list)\n",
    "print(s1)"
   ]
  },
  {
   "cell_type": "code",
   "execution_count": 20,
   "id": "b338febf",
   "metadata": {},
   "outputs": [
    {
     "name": "stdout",
     "output_type": "stream",
     "text": [
      "0     3\n",
      "1     6\n",
      "2     9\n",
      "3    12\n",
      "4    15\n",
      "5    18\n",
      "dtype: int64\n"
     ]
    }
   ],
   "source": [
    "s2=pd.Series(t1)\n",
    "print(s2)"
   ]
  },
  {
   "cell_type": "markdown",
   "id": "e53b32d4",
   "metadata": {},
   "source": [
    "DATA FRAME"
   ]
  },
  {
   "cell_type": "code",
   "execution_count": 2,
   "id": "e2b96ec8",
   "metadata": {},
   "outputs": [],
   "source": [
    "#Creating a data Frame \n",
    "import pandas as pd"
   ]
  },
  {
   "cell_type": "code",
   "execution_count": 4,
   "id": "8f51d78a",
   "metadata": {},
   "outputs": [
    {
     "data": {
      "text/html": [
       "<div>\n",
       "<style scoped>\n",
       "    .dataframe tbody tr th:only-of-type {\n",
       "        vertical-align: middle;\n",
       "    }\n",
       "\n",
       "    .dataframe tbody tr th {\n",
       "        vertical-align: top;\n",
       "    }\n",
       "\n",
       "    .dataframe thead th {\n",
       "        text-align: right;\n",
       "    }\n",
       "</style>\n",
       "<table border=\"1\" class=\"dataframe\">\n",
       "  <thead>\n",
       "    <tr style=\"text-align: right;\">\n",
       "      <th></th>\n",
       "      <th>Name</th>\n",
       "      <th>Age</th>\n",
       "      <th>Place</th>\n",
       "    </tr>\n",
       "  </thead>\n",
       "  <tbody>\n",
       "    <tr>\n",
       "      <th>0</th>\n",
       "      <td>Anuj</td>\n",
       "      <td>24</td>\n",
       "      <td>Delhi</td>\n",
       "    </tr>\n",
       "    <tr>\n",
       "      <th>1</th>\n",
       "      <td>Rahul</td>\n",
       "      <td>54</td>\n",
       "      <td>Mumbai</td>\n",
       "    </tr>\n",
       "    <tr>\n",
       "      <th>2</th>\n",
       "      <td>Ajay</td>\n",
       "      <td>33</td>\n",
       "      <td>Uttrakhand</td>\n",
       "    </tr>\n",
       "    <tr>\n",
       "      <th>3</th>\n",
       "      <td>Mohan</td>\n",
       "      <td>43</td>\n",
       "      <td>Punjab</td>\n",
       "    </tr>\n",
       "    <tr>\n",
       "      <th>4</th>\n",
       "      <td>Tushar</td>\n",
       "      <td>26</td>\n",
       "      <td>Uttar Pradesh</td>\n",
       "    </tr>\n",
       "  </tbody>\n",
       "</table>\n",
       "</div>"
      ],
      "text/plain": [
       "     Name  Age          Place\n",
       "0    Anuj   24          Delhi\n",
       "1   Rahul   54         Mumbai\n",
       "2    Ajay   33     Uttrakhand\n",
       "3   Mohan   43         Punjab\n",
       "4  Tushar   26  Uttar Pradesh"
      ]
     },
     "execution_count": 4,
     "metadata": {},
     "output_type": "execute_result"
    }
   ],
   "source": [
    "data={\"Name\":['Anuj','Rahul','Ajay','Mohan','Tushar','Vijay'],\"Age\":[24,54,33,43,26,43],\n",
    "      \"Place\":['Delhi','Mumbai','Uttrakhand','Punjab','Uttar Pradesh','Gujurat']}\n",
    "df=pd.DataFrame(data)\n",
    "df.head()"
   ]
  },
  {
   "cell_type": "code",
   "execution_count": 5,
   "id": "9f1f14e9",
   "metadata": {},
   "outputs": [
    {
     "data": {
      "text/html": [
       "<div>\n",
       "<style scoped>\n",
       "    .dataframe tbody tr th:only-of-type {\n",
       "        vertical-align: middle;\n",
       "    }\n",
       "\n",
       "    .dataframe tbody tr th {\n",
       "        vertical-align: top;\n",
       "    }\n",
       "\n",
       "    .dataframe thead th {\n",
       "        text-align: right;\n",
       "    }\n",
       "</style>\n",
       "<table border=\"1\" class=\"dataframe\">\n",
       "  <thead>\n",
       "    <tr style=\"text-align: right;\">\n",
       "      <th></th>\n",
       "      <th>Name</th>\n",
       "      <th>Age</th>\n",
       "      <th>Place</th>\n",
       "    </tr>\n",
       "  </thead>\n",
       "  <tbody>\n",
       "    <tr>\n",
       "      <th>1</th>\n",
       "      <td>Rahul</td>\n",
       "      <td>54</td>\n",
       "      <td>Mumbai</td>\n",
       "    </tr>\n",
       "    <tr>\n",
       "      <th>2</th>\n",
       "      <td>Ajay</td>\n",
       "      <td>33</td>\n",
       "      <td>Uttrakhand</td>\n",
       "    </tr>\n",
       "    <tr>\n",
       "      <th>3</th>\n",
       "      <td>Mohan</td>\n",
       "      <td>43</td>\n",
       "      <td>Punjab</td>\n",
       "    </tr>\n",
       "    <tr>\n",
       "      <th>4</th>\n",
       "      <td>Tushar</td>\n",
       "      <td>26</td>\n",
       "      <td>Uttar Pradesh</td>\n",
       "    </tr>\n",
       "    <tr>\n",
       "      <th>5</th>\n",
       "      <td>Vijay</td>\n",
       "      <td>43</td>\n",
       "      <td>Gujurat</td>\n",
       "    </tr>\n",
       "  </tbody>\n",
       "</table>\n",
       "</div>"
      ],
      "text/plain": [
       "     Name  Age          Place\n",
       "1   Rahul   54         Mumbai\n",
       "2    Ajay   33     Uttrakhand\n",
       "3   Mohan   43         Punjab\n",
       "4  Tushar   26  Uttar Pradesh\n",
       "5   Vijay   43        Gujurat"
      ]
     },
     "execution_count": 5,
     "metadata": {},
     "output_type": "execute_result"
    }
   ],
   "source": [
    "df.tail()"
   ]
  },
  {
   "cell_type": "markdown",
   "id": "d8e49393",
   "metadata": {},
   "source": [
    "Add Column into the Data Frame "
   ]
  },
  {
   "cell_type": "code",
   "execution_count": 6,
   "id": "15615233",
   "metadata": {},
   "outputs": [
    {
     "data": {
      "text/html": [
       "<div>\n",
       "<style scoped>\n",
       "    .dataframe tbody tr th:only-of-type {\n",
       "        vertical-align: middle;\n",
       "    }\n",
       "\n",
       "    .dataframe tbody tr th {\n",
       "        vertical-align: top;\n",
       "    }\n",
       "\n",
       "    .dataframe thead th {\n",
       "        text-align: right;\n",
       "    }\n",
       "</style>\n",
       "<table border=\"1\" class=\"dataframe\">\n",
       "  <thead>\n",
       "    <tr style=\"text-align: right;\">\n",
       "      <th></th>\n",
       "      <th>Name</th>\n",
       "      <th>Age</th>\n",
       "      <th>Place</th>\n",
       "      <th>Course</th>\n",
       "    </tr>\n",
       "  </thead>\n",
       "  <tbody>\n",
       "    <tr>\n",
       "      <th>0</th>\n",
       "      <td>Anuj</td>\n",
       "      <td>24</td>\n",
       "      <td>Delhi</td>\n",
       "      <td>B-tech</td>\n",
       "    </tr>\n",
       "    <tr>\n",
       "      <th>1</th>\n",
       "      <td>Rahul</td>\n",
       "      <td>54</td>\n",
       "      <td>Mumbai</td>\n",
       "      <td>MCA</td>\n",
       "    </tr>\n",
       "    <tr>\n",
       "      <th>2</th>\n",
       "      <td>Ajay</td>\n",
       "      <td>33</td>\n",
       "      <td>Uttrakhand</td>\n",
       "      <td>BCA</td>\n",
       "    </tr>\n",
       "    <tr>\n",
       "      <th>3</th>\n",
       "      <td>Mohan</td>\n",
       "      <td>43</td>\n",
       "      <td>Punjab</td>\n",
       "      <td>B.Com</td>\n",
       "    </tr>\n",
       "    <tr>\n",
       "      <th>4</th>\n",
       "      <td>Tushar</td>\n",
       "      <td>26</td>\n",
       "      <td>Uttar Pradesh</td>\n",
       "      <td>MBA</td>\n",
       "    </tr>\n",
       "    <tr>\n",
       "      <th>5</th>\n",
       "      <td>Vijay</td>\n",
       "      <td>43</td>\n",
       "      <td>Gujurat</td>\n",
       "      <td>MA</td>\n",
       "    </tr>\n",
       "  </tbody>\n",
       "</table>\n",
       "</div>"
      ],
      "text/plain": [
       "     Name  Age          Place  Course\n",
       "0    Anuj   24          Delhi  B-tech\n",
       "1   Rahul   54         Mumbai     MCA\n",
       "2    Ajay   33     Uttrakhand     BCA\n",
       "3   Mohan   43         Punjab   B.Com\n",
       "4  Tushar   26  Uttar Pradesh     MBA\n",
       "5   Vijay   43        Gujurat      MA"
      ]
     },
     "execution_count": 6,
     "metadata": {},
     "output_type": "execute_result"
    }
   ],
   "source": [
    "df[\"Course\"]=[\"B-tech\",\"MCA\",\"BCA\",\"B.Com\",\"MBA\",\"MA\"]\n",
    "df.head(6)"
   ]
  },
  {
   "cell_type": "code",
   "execution_count": 8,
   "id": "8d51035b",
   "metadata": {},
   "outputs": [
    {
     "data": {
      "text/plain": [
       "(6, 4)"
      ]
     },
     "execution_count": 8,
     "metadata": {},
     "output_type": "execute_result"
    }
   ],
   "source": [
    "#to check the Shape\n",
    "df.shape"
   ]
  },
  {
   "cell_type": "code",
   "execution_count": 10,
   "id": "81fbe428",
   "metadata": {},
   "outputs": [
    {
     "name": "stdout",
     "output_type": "stream",
     "text": [
      "<class 'pandas.core.frame.DataFrame'>\n",
      "RangeIndex: 6 entries, 0 to 5\n",
      "Data columns (total 4 columns):\n",
      " #   Column  Non-Null Count  Dtype \n",
      "---  ------  --------------  ----- \n",
      " 0   Name    6 non-null      object\n",
      " 1   Age     6 non-null      int64 \n",
      " 2   Place   6 non-null      object\n",
      " 3   Course  6 non-null      object\n",
      "dtypes: int64(1), object(3)\n",
      "memory usage: 320.0+ bytes\n"
     ]
    }
   ],
   "source": [
    "#Summarry od Data\n",
    "df.info()"
   ]
  },
  {
   "cell_type": "code",
   "execution_count": 11,
   "id": "5c5714a9",
   "metadata": {},
   "outputs": [
    {
     "data": {
      "text/html": [
       "<div>\n",
       "<style scoped>\n",
       "    .dataframe tbody tr th:only-of-type {\n",
       "        vertical-align: middle;\n",
       "    }\n",
       "\n",
       "    .dataframe tbody tr th {\n",
       "        vertical-align: top;\n",
       "    }\n",
       "\n",
       "    .dataframe thead th {\n",
       "        text-align: right;\n",
       "    }\n",
       "</style>\n",
       "<table border=\"1\" class=\"dataframe\">\n",
       "  <thead>\n",
       "    <tr style=\"text-align: right;\">\n",
       "      <th></th>\n",
       "      <th>Age</th>\n",
       "    </tr>\n",
       "  </thead>\n",
       "  <tbody>\n",
       "    <tr>\n",
       "      <th>count</th>\n",
       "      <td>6.000000</td>\n",
       "    </tr>\n",
       "    <tr>\n",
       "      <th>mean</th>\n",
       "      <td>37.166667</td>\n",
       "    </tr>\n",
       "    <tr>\n",
       "      <th>std</th>\n",
       "      <td>11.548449</td>\n",
       "    </tr>\n",
       "    <tr>\n",
       "      <th>min</th>\n",
       "      <td>24.000000</td>\n",
       "    </tr>\n",
       "    <tr>\n",
       "      <th>25%</th>\n",
       "      <td>27.750000</td>\n",
       "    </tr>\n",
       "    <tr>\n",
       "      <th>50%</th>\n",
       "      <td>38.000000</td>\n",
       "    </tr>\n",
       "    <tr>\n",
       "      <th>75%</th>\n",
       "      <td>43.000000</td>\n",
       "    </tr>\n",
       "    <tr>\n",
       "      <th>max</th>\n",
       "      <td>54.000000</td>\n",
       "    </tr>\n",
       "  </tbody>\n",
       "</table>\n",
       "</div>"
      ],
      "text/plain": [
       "             Age\n",
       "count   6.000000\n",
       "mean   37.166667\n",
       "std    11.548449\n",
       "min    24.000000\n",
       "25%    27.750000\n",
       "50%    38.000000\n",
       "75%    43.000000\n",
       "max    54.000000"
      ]
     },
     "execution_count": 11,
     "metadata": {},
     "output_type": "execute_result"
    }
   ],
   "source": [
    "#Statitical Summary for only numerical Columns\n",
    "#Here describe function is working on Age \n",
    "df.describe()"
   ]
  },
  {
   "cell_type": "code",
   "execution_count": 16,
   "id": "e95887af",
   "metadata": {},
   "outputs": [
    {
     "name": "stdout",
     "output_type": "stream",
     "text": [
      "0            Delhi\n",
      "1           Mumbai\n",
      "2       Uttrakhand\n",
      "3           Punjab\n",
      "4    Uttar Pradesh\n",
      "5          Gujurat\n",
      "Name: Place, dtype: object\n",
      "0      Anuj\n",
      "1     Rahul\n",
      "2      Ajay\n",
      "3     Mohan\n",
      "4    Tushar\n",
      "5     Vijay\n",
      "Name: Name, dtype: object\n",
      "0    B-tech\n",
      "1       MCA\n",
      "2       BCA\n",
      "3     B.Com\n",
      "4       MBA\n",
      "5        MA\n",
      "Name: Course, dtype: object\n",
      "0    24\n",
      "1    54\n",
      "2    33\n",
      "3    43\n",
      "4    26\n",
      "5    43\n",
      "Name: Age, dtype: int64\n"
     ]
    }
   ],
   "source": [
    "#Fetching the Single Column of the Data\n",
    "print(df[\"Place\"])\n",
    "print(df[\"Name\"])\n",
    "print(df[\"Course\"])\n",
    "print(df[\"Age\"])\n"
   ]
  },
  {
   "cell_type": "code",
   "execution_count": 17,
   "id": "c671502e",
   "metadata": {},
   "outputs": [
    {
     "name": "stdout",
     "output_type": "stream",
     "text": [
      "<class 'pandas.core.series.Series'>\n",
      "<class 'pandas.core.frame.DataFrame'>\n"
     ]
    }
   ],
   "source": [
    "#Type of Data Frame\n",
    "#For Single Square Brackets it is Series\n",
    "print(type(df[\"Age\"]))\n",
    "#For Double Square Brackets it is Data Frame\n",
    "print(type(df[[\"Age\"]]))"
   ]
  },
  {
   "cell_type": "code",
   "execution_count": 18,
   "id": "0bc9cef3",
   "metadata": {},
   "outputs": [
    {
     "data": {
      "text/html": [
       "<div>\n",
       "<style scoped>\n",
       "    .dataframe tbody tr th:only-of-type {\n",
       "        vertical-align: middle;\n",
       "    }\n",
       "\n",
       "    .dataframe tbody tr th {\n",
       "        vertical-align: top;\n",
       "    }\n",
       "\n",
       "    .dataframe thead th {\n",
       "        text-align: right;\n",
       "    }\n",
       "</style>\n",
       "<table border=\"1\" class=\"dataframe\">\n",
       "  <thead>\n",
       "    <tr style=\"text-align: right;\">\n",
       "      <th></th>\n",
       "      <th>Age</th>\n",
       "      <th>Course</th>\n",
       "      <th>Name</th>\n",
       "    </tr>\n",
       "  </thead>\n",
       "  <tbody>\n",
       "    <tr>\n",
       "      <th>0</th>\n",
       "      <td>24</td>\n",
       "      <td>B-tech</td>\n",
       "      <td>Anuj</td>\n",
       "    </tr>\n",
       "    <tr>\n",
       "      <th>1</th>\n",
       "      <td>54</td>\n",
       "      <td>MCA</td>\n",
       "      <td>Rahul</td>\n",
       "    </tr>\n",
       "    <tr>\n",
       "      <th>2</th>\n",
       "      <td>33</td>\n",
       "      <td>BCA</td>\n",
       "      <td>Ajay</td>\n",
       "    </tr>\n",
       "    <tr>\n",
       "      <th>3</th>\n",
       "      <td>43</td>\n",
       "      <td>B.Com</td>\n",
       "      <td>Mohan</td>\n",
       "    </tr>\n",
       "    <tr>\n",
       "      <th>4</th>\n",
       "      <td>26</td>\n",
       "      <td>MBA</td>\n",
       "      <td>Tushar</td>\n",
       "    </tr>\n",
       "    <tr>\n",
       "      <th>5</th>\n",
       "      <td>43</td>\n",
       "      <td>MA</td>\n",
       "      <td>Vijay</td>\n",
       "    </tr>\n",
       "  </tbody>\n",
       "</table>\n",
       "</div>"
      ],
      "text/plain": [
       "   Age  Course    Name\n",
       "0   24  B-tech    Anuj\n",
       "1   54     MCA   Rahul\n",
       "2   33     BCA    Ajay\n",
       "3   43   B.Com   Mohan\n",
       "4   26     MBA  Tushar\n",
       "5   43      MA   Vijay"
      ]
     },
     "execution_count": 18,
     "metadata": {},
     "output_type": "execute_result"
    }
   ],
   "source": [
    "#How to Fetch Multiple Column\n",
    "w1=df[[\"Age\",\"Course\",\"Name\"]]\n",
    "w1"
   ]
  },
  {
   "cell_type": "code",
   "execution_count": 19,
   "id": "93ba46e5",
   "metadata": {},
   "outputs": [
    {
     "name": "stdout",
     "output_type": "stream",
     "text": [
      "<class 'pandas.core.frame.DataFrame'>\n"
     ]
    }
   ],
   "source": [
    "print(type(w1))"
   ]
  },
  {
   "cell_type": "markdown",
   "id": "13674723",
   "metadata": {},
   "source": [
    "# Using List of List\n"
   ]
  },
  {
   "cell_type": "markdown",
   "id": "11ef95c0",
   "metadata": {},
   "source": [
    "From each list ,a row in Data Frame will be populated "
   ]
  },
  {
   "cell_type": "code",
   "execution_count": 21,
   "id": "276d8c7a",
   "metadata": {},
   "outputs": [
    {
     "name": "stdout",
     "output_type": "stream",
     "text": [
      "[['Apple', 'Potato', 20], ['Banana', 'Totato', 21], ['Grapes', 'Cucumber', 23]]\n",
      "<class 'list'>\n"
     ]
    }
   ],
   "source": [
    "data2=[[\"Apple\",\"Potato\",20],\n",
    "       [\"Banana\",\"Totato\",21],\n",
    "       [\"Grapes\",\"Cucumber\",23]]\n",
    "print(data2)\n",
    "print(type(data2))"
   ]
  },
  {
   "cell_type": "code",
   "execution_count": 22,
   "id": "d90d0064",
   "metadata": {},
   "outputs": [
    {
     "data": {
      "text/html": [
       "<div>\n",
       "<style scoped>\n",
       "    .dataframe tbody tr th:only-of-type {\n",
       "        vertical-align: middle;\n",
       "    }\n",
       "\n",
       "    .dataframe tbody tr th {\n",
       "        vertical-align: top;\n",
       "    }\n",
       "\n",
       "    .dataframe thead th {\n",
       "        text-align: right;\n",
       "    }\n",
       "</style>\n",
       "<table border=\"1\" class=\"dataframe\">\n",
       "  <thead>\n",
       "    <tr style=\"text-align: right;\">\n",
       "      <th></th>\n",
       "      <th>0</th>\n",
       "      <th>1</th>\n",
       "      <th>2</th>\n",
       "    </tr>\n",
       "  </thead>\n",
       "  <tbody>\n",
       "    <tr>\n",
       "      <th>0</th>\n",
       "      <td>Apple</td>\n",
       "      <td>Potato</td>\n",
       "      <td>20</td>\n",
       "    </tr>\n",
       "    <tr>\n",
       "      <th>1</th>\n",
       "      <td>Banana</td>\n",
       "      <td>Totato</td>\n",
       "      <td>21</td>\n",
       "    </tr>\n",
       "    <tr>\n",
       "      <th>2</th>\n",
       "      <td>Grapes</td>\n",
       "      <td>Cucumber</td>\n",
       "      <td>23</td>\n",
       "    </tr>\n",
       "  </tbody>\n",
       "</table>\n",
       "</div>"
      ],
      "text/plain": [
       "        0         1   2\n",
       "0   Apple    Potato  20\n",
       "1  Banana    Totato  21\n",
       "2  Grapes  Cucumber  23"
      ]
     },
     "execution_count": 22,
     "metadata": {},
     "output_type": "execute_result"
    }
   ],
   "source": [
    "df2=pd.DataFrame(data2)\n",
    "df2"
   ]
  },
  {
   "cell_type": "code",
   "execution_count": 25,
   "id": "0302943a",
   "metadata": {},
   "outputs": [
    {
     "name": "stdout",
     "output_type": "stream",
     "text": [
      "   Fruits Vegetables  Rates\n",
      "0   Apple     Potato     20\n",
      "1  Banana     Totato     21\n",
      "2  Grapes   Cucumber     23\n"
     ]
    }
   ],
   "source": [
    "#if Want to add column\n",
    "df2=pd.DataFrame(data2,columns=[\"Fruits\",\"Vegetables\",\"Rates\"])\n",
    "print(df2)"
   ]
  },
  {
   "cell_type": "markdown",
   "id": "efaa0751",
   "metadata": {},
   "source": [
    "# Using Series"
   ]
  },
  {
   "cell_type": "code",
   "execution_count": 39,
   "id": "c3046921",
   "metadata": {},
   "outputs": [
    {
     "name": "stdout",
     "output_type": "stream",
     "text": [
      "0    10\n",
      "1    20\n",
      "2    30\n",
      "dtype: int64\n",
      "0    15\n",
      "1    25\n",
      "2    35\n",
      "dtype: int64\n"
     ]
    }
   ],
   "source": [
    "n1=pd.Series([10,20,30])\n",
    "n2=pd.Series([15,25,35])\n",
    "print(n1)\n",
    "print(n2)"
   ]
  },
  {
   "cell_type": "code",
   "execution_count": 40,
   "id": "7462fd64",
   "metadata": {},
   "outputs": [
    {
     "name": "stdout",
     "output_type": "stream",
     "text": [
      "   Numbers\n",
      "0       10\n",
      "1       20\n",
      "2       30\n",
      "   Numbers\n",
      "0       15\n",
      "1       25\n",
      "2       35\n"
     ]
    }
   ],
   "source": [
    "df1=pd.DataFrame(n1,columns=[\"Numbers\"])\n",
    "df2=pd.DataFrame(n2,columns=[\"Numbers\"])\n",
    "df.head()\n",
    "print(df1)\n",
    "print(df2)\n"
   ]
  },
  {
   "cell_type": "code",
   "execution_count": 43,
   "id": "d8c39999",
   "metadata": {},
   "outputs": [
    {
     "data": {
      "text/html": [
       "<div>\n",
       "<style scoped>\n",
       "    .dataframe tbody tr th:only-of-type {\n",
       "        vertical-align: middle;\n",
       "    }\n",
       "\n",
       "    .dataframe tbody tr th {\n",
       "        vertical-align: top;\n",
       "    }\n",
       "\n",
       "    .dataframe thead th {\n",
       "        text-align: right;\n",
       "    }\n",
       "</style>\n",
       "<table border=\"1\" class=\"dataframe\">\n",
       "  <thead>\n",
       "    <tr style=\"text-align: right;\">\n",
       "      <th></th>\n",
       "      <th>Numbers</th>\n",
       "      <th>Values</th>\n",
       "    </tr>\n",
       "  </thead>\n",
       "  <tbody>\n",
       "    <tr>\n",
       "      <th>0</th>\n",
       "      <td>10</td>\n",
       "      <td>15</td>\n",
       "    </tr>\n",
       "    <tr>\n",
       "      <th>1</th>\n",
       "      <td>20</td>\n",
       "      <td>25</td>\n",
       "    </tr>\n",
       "    <tr>\n",
       "      <th>2</th>\n",
       "      <td>30</td>\n",
       "      <td>35</td>\n",
       "    </tr>\n",
       "  </tbody>\n",
       "</table>\n",
       "</div>"
      ],
      "text/plain": [
       "   Numbers  Values\n",
       "0       10      15\n",
       "1       20      25\n",
       "2       30      35"
      ]
     },
     "execution_count": 43,
     "metadata": {},
     "output_type": "execute_result"
    }
   ],
   "source": [
    "data3={\"Numbers\":n1,\"Values\":n2}\n",
    "df3=pd.DataFrame(data3)\n",
    "df3.head()"
   ]
  },
  {
   "cell_type": "markdown",
   "id": "ef67cf34",
   "metadata": {},
   "source": [
    "Sorting Columns By values"
   ]
  },
  {
   "cell_type": "code",
   "execution_count": 44,
   "id": "e009714f",
   "metadata": {},
   "outputs": [
    {
     "data": {
      "text/html": [
       "<div>\n",
       "<style scoped>\n",
       "    .dataframe tbody tr th:only-of-type {\n",
       "        vertical-align: middle;\n",
       "    }\n",
       "\n",
       "    .dataframe tbody tr th {\n",
       "        vertical-align: top;\n",
       "    }\n",
       "\n",
       "    .dataframe thead th {\n",
       "        text-align: right;\n",
       "    }\n",
       "</style>\n",
       "<table border=\"1\" class=\"dataframe\">\n",
       "  <thead>\n",
       "    <tr style=\"text-align: right;\">\n",
       "      <th></th>\n",
       "      <th>Age</th>\n",
       "      <th>Course</th>\n",
       "      <th>Name</th>\n",
       "    </tr>\n",
       "  </thead>\n",
       "  <tbody>\n",
       "    <tr>\n",
       "      <th>0</th>\n",
       "      <td>24</td>\n",
       "      <td>B-tech</td>\n",
       "      <td>Anuj</td>\n",
       "    </tr>\n",
       "    <tr>\n",
       "      <th>1</th>\n",
       "      <td>54</td>\n",
       "      <td>MCA</td>\n",
       "      <td>Rahul</td>\n",
       "    </tr>\n",
       "    <tr>\n",
       "      <th>2</th>\n",
       "      <td>33</td>\n",
       "      <td>BCA</td>\n",
       "      <td>Ajay</td>\n",
       "    </tr>\n",
       "    <tr>\n",
       "      <th>3</th>\n",
       "      <td>43</td>\n",
       "      <td>B.Com</td>\n",
       "      <td>Mohan</td>\n",
       "    </tr>\n",
       "    <tr>\n",
       "      <th>4</th>\n",
       "      <td>26</td>\n",
       "      <td>MBA</td>\n",
       "      <td>Tushar</td>\n",
       "    </tr>\n",
       "  </tbody>\n",
       "</table>\n",
       "</div>"
      ],
      "text/plain": [
       "   Age  Course    Name\n",
       "0   24  B-tech    Anuj\n",
       "1   54     MCA   Rahul\n",
       "2   33     BCA    Ajay\n",
       "3   43   B.Com   Mohan\n",
       "4   26     MBA  Tushar"
      ]
     },
     "execution_count": 44,
     "metadata": {},
     "output_type": "execute_result"
    }
   ],
   "source": [
    "w1.head()"
   ]
  },
  {
   "cell_type": "code",
   "execution_count": 45,
   "id": "32643d4e",
   "metadata": {},
   "outputs": [
    {
     "data": {
      "text/html": [
       "<div>\n",
       "<style scoped>\n",
       "    .dataframe tbody tr th:only-of-type {\n",
       "        vertical-align: middle;\n",
       "    }\n",
       "\n",
       "    .dataframe tbody tr th {\n",
       "        vertical-align: top;\n",
       "    }\n",
       "\n",
       "    .dataframe thead th {\n",
       "        text-align: right;\n",
       "    }\n",
       "</style>\n",
       "<table border=\"1\" class=\"dataframe\">\n",
       "  <thead>\n",
       "    <tr style=\"text-align: right;\">\n",
       "      <th></th>\n",
       "      <th>Age</th>\n",
       "      <th>Course</th>\n",
       "      <th>Name</th>\n",
       "    </tr>\n",
       "  </thead>\n",
       "  <tbody>\n",
       "    <tr>\n",
       "      <th>0</th>\n",
       "      <td>24</td>\n",
       "      <td>B-tech</td>\n",
       "      <td>Anuj</td>\n",
       "    </tr>\n",
       "    <tr>\n",
       "      <th>4</th>\n",
       "      <td>26</td>\n",
       "      <td>MBA</td>\n",
       "      <td>Tushar</td>\n",
       "    </tr>\n",
       "    <tr>\n",
       "      <th>2</th>\n",
       "      <td>33</td>\n",
       "      <td>BCA</td>\n",
       "      <td>Ajay</td>\n",
       "    </tr>\n",
       "    <tr>\n",
       "      <th>3</th>\n",
       "      <td>43</td>\n",
       "      <td>B.Com</td>\n",
       "      <td>Mohan</td>\n",
       "    </tr>\n",
       "    <tr>\n",
       "      <th>5</th>\n",
       "      <td>43</td>\n",
       "      <td>MA</td>\n",
       "      <td>Vijay</td>\n",
       "    </tr>\n",
       "    <tr>\n",
       "      <th>1</th>\n",
       "      <td>54</td>\n",
       "      <td>MCA</td>\n",
       "      <td>Rahul</td>\n",
       "    </tr>\n",
       "  </tbody>\n",
       "</table>\n",
       "</div>"
      ],
      "text/plain": [
       "   Age  Course    Name\n",
       "0   24  B-tech    Anuj\n",
       "4   26     MBA  Tushar\n",
       "2   33     BCA    Ajay\n",
       "3   43   B.Com   Mohan\n",
       "5   43      MA   Vijay\n",
       "1   54     MCA   Rahul"
      ]
     },
     "execution_count": 45,
     "metadata": {},
     "output_type": "execute_result"
    }
   ],
   "source": [
    "w1.sort_values(by=\"Age\") #In Ascending by default"
   ]
  },
  {
   "cell_type": "code",
   "execution_count": 46,
   "id": "a06c7205",
   "metadata": {},
   "outputs": [
    {
     "data": {
      "text/html": [
       "<div>\n",
       "<style scoped>\n",
       "    .dataframe tbody tr th:only-of-type {\n",
       "        vertical-align: middle;\n",
       "    }\n",
       "\n",
       "    .dataframe tbody tr th {\n",
       "        vertical-align: top;\n",
       "    }\n",
       "\n",
       "    .dataframe thead th {\n",
       "        text-align: right;\n",
       "    }\n",
       "</style>\n",
       "<table border=\"1\" class=\"dataframe\">\n",
       "  <thead>\n",
       "    <tr style=\"text-align: right;\">\n",
       "      <th></th>\n",
       "      <th>Age</th>\n",
       "      <th>Course</th>\n",
       "      <th>Name</th>\n",
       "    </tr>\n",
       "  </thead>\n",
       "  <tbody>\n",
       "    <tr>\n",
       "      <th>1</th>\n",
       "      <td>54</td>\n",
       "      <td>MCA</td>\n",
       "      <td>Rahul</td>\n",
       "    </tr>\n",
       "    <tr>\n",
       "      <th>3</th>\n",
       "      <td>43</td>\n",
       "      <td>B.Com</td>\n",
       "      <td>Mohan</td>\n",
       "    </tr>\n",
       "    <tr>\n",
       "      <th>5</th>\n",
       "      <td>43</td>\n",
       "      <td>MA</td>\n",
       "      <td>Vijay</td>\n",
       "    </tr>\n",
       "    <tr>\n",
       "      <th>2</th>\n",
       "      <td>33</td>\n",
       "      <td>BCA</td>\n",
       "      <td>Ajay</td>\n",
       "    </tr>\n",
       "    <tr>\n",
       "      <th>4</th>\n",
       "      <td>26</td>\n",
       "      <td>MBA</td>\n",
       "      <td>Tushar</td>\n",
       "    </tr>\n",
       "    <tr>\n",
       "      <th>0</th>\n",
       "      <td>24</td>\n",
       "      <td>B-tech</td>\n",
       "      <td>Anuj</td>\n",
       "    </tr>\n",
       "  </tbody>\n",
       "</table>\n",
       "</div>"
      ],
      "text/plain": [
       "   Age  Course    Name\n",
       "1   54     MCA   Rahul\n",
       "3   43   B.Com   Mohan\n",
       "5   43      MA   Vijay\n",
       "2   33     BCA    Ajay\n",
       "4   26     MBA  Tushar\n",
       "0   24  B-tech    Anuj"
      ]
     },
     "execution_count": 46,
     "metadata": {},
     "output_type": "execute_result"
    }
   ],
   "source": [
    "#if in Decending order\n",
    "w1.sort_values(by=\"Age\",ascending=False)"
   ]
  },
  {
   "cell_type": "markdown",
   "id": "126272a1",
   "metadata": {},
   "source": [
    "Set a Column as the Index "
   ]
  },
  {
   "cell_type": "code",
   "execution_count": 47,
   "id": "cc5ddd26",
   "metadata": {},
   "outputs": [
    {
     "data": {
      "text/html": [
       "<div>\n",
       "<style scoped>\n",
       "    .dataframe tbody tr th:only-of-type {\n",
       "        vertical-align: middle;\n",
       "    }\n",
       "\n",
       "    .dataframe tbody tr th {\n",
       "        vertical-align: top;\n",
       "    }\n",
       "\n",
       "    .dataframe thead th {\n",
       "        text-align: right;\n",
       "    }\n",
       "</style>\n",
       "<table border=\"1\" class=\"dataframe\">\n",
       "  <thead>\n",
       "    <tr style=\"text-align: right;\">\n",
       "      <th></th>\n",
       "      <th>Name</th>\n",
       "      <th>Age</th>\n",
       "      <th>Place</th>\n",
       "    </tr>\n",
       "    <tr>\n",
       "      <th>Course</th>\n",
       "      <th></th>\n",
       "      <th></th>\n",
       "      <th></th>\n",
       "    </tr>\n",
       "  </thead>\n",
       "  <tbody>\n",
       "    <tr>\n",
       "      <th>B-tech</th>\n",
       "      <td>Anuj</td>\n",
       "      <td>24</td>\n",
       "      <td>Delhi</td>\n",
       "    </tr>\n",
       "    <tr>\n",
       "      <th>MCA</th>\n",
       "      <td>Rahul</td>\n",
       "      <td>54</td>\n",
       "      <td>Mumbai</td>\n",
       "    </tr>\n",
       "    <tr>\n",
       "      <th>BCA</th>\n",
       "      <td>Ajay</td>\n",
       "      <td>33</td>\n",
       "      <td>Uttrakhand</td>\n",
       "    </tr>\n",
       "    <tr>\n",
       "      <th>B.Com</th>\n",
       "      <td>Mohan</td>\n",
       "      <td>43</td>\n",
       "      <td>Punjab</td>\n",
       "    </tr>\n",
       "    <tr>\n",
       "      <th>MBA</th>\n",
       "      <td>Tushar</td>\n",
       "      <td>26</td>\n",
       "      <td>Uttar Pradesh</td>\n",
       "    </tr>\n",
       "    <tr>\n",
       "      <th>MA</th>\n",
       "      <td>Vijay</td>\n",
       "      <td>43</td>\n",
       "      <td>Gujurat</td>\n",
       "    </tr>\n",
       "  </tbody>\n",
       "</table>\n",
       "</div>"
      ],
      "text/plain": [
       "          Name  Age          Place\n",
       "Course                            \n",
       "B-tech    Anuj   24          Delhi\n",
       "MCA      Rahul   54         Mumbai\n",
       "BCA       Ajay   33     Uttrakhand\n",
       "B.Com    Mohan   43         Punjab\n",
       "MBA     Tushar   26  Uttar Pradesh\n",
       "MA       Vijay   43        Gujurat"
      ]
     },
     "execution_count": 47,
     "metadata": {},
     "output_type": "execute_result"
    }
   ],
   "source": [
    "w1=df.set_index(\"Course\")\n",
    "w1"
   ]
  },
  {
   "cell_type": "markdown",
   "id": "95a10c91",
   "metadata": {},
   "source": [
    "\n",
    "# Filtering"
   ]
  },
  {
   "cell_type": "markdown",
   "id": "4ac6ec06",
   "metadata": {},
   "source": [
    "Filter all records Where Age is even "
   ]
  },
  {
   "cell_type": "code",
   "execution_count": 48,
   "id": "7426c080",
   "metadata": {},
   "outputs": [
    {
     "data": {
      "text/html": [
       "<div>\n",
       "<style scoped>\n",
       "    .dataframe tbody tr th:only-of-type {\n",
       "        vertical-align: middle;\n",
       "    }\n",
       "\n",
       "    .dataframe tbody tr th {\n",
       "        vertical-align: top;\n",
       "    }\n",
       "\n",
       "    .dataframe thead th {\n",
       "        text-align: right;\n",
       "    }\n",
       "</style>\n",
       "<table border=\"1\" class=\"dataframe\">\n",
       "  <thead>\n",
       "    <tr style=\"text-align: right;\">\n",
       "      <th></th>\n",
       "      <th>Name</th>\n",
       "      <th>Age</th>\n",
       "      <th>Place</th>\n",
       "    </tr>\n",
       "    <tr>\n",
       "      <th>Course</th>\n",
       "      <th></th>\n",
       "      <th></th>\n",
       "      <th></th>\n",
       "    </tr>\n",
       "  </thead>\n",
       "  <tbody>\n",
       "    <tr>\n",
       "      <th>B-tech</th>\n",
       "      <td>Anuj</td>\n",
       "      <td>24</td>\n",
       "      <td>Delhi</td>\n",
       "    </tr>\n",
       "    <tr>\n",
       "      <th>MCA</th>\n",
       "      <td>Rahul</td>\n",
       "      <td>54</td>\n",
       "      <td>Mumbai</td>\n",
       "    </tr>\n",
       "    <tr>\n",
       "      <th>BCA</th>\n",
       "      <td>Ajay</td>\n",
       "      <td>33</td>\n",
       "      <td>Uttrakhand</td>\n",
       "    </tr>\n",
       "    <tr>\n",
       "      <th>B.Com</th>\n",
       "      <td>Mohan</td>\n",
       "      <td>43</td>\n",
       "      <td>Punjab</td>\n",
       "    </tr>\n",
       "    <tr>\n",
       "      <th>MBA</th>\n",
       "      <td>Tushar</td>\n",
       "      <td>26</td>\n",
       "      <td>Uttar Pradesh</td>\n",
       "    </tr>\n",
       "  </tbody>\n",
       "</table>\n",
       "</div>"
      ],
      "text/plain": [
       "          Name  Age          Place\n",
       "Course                            \n",
       "B-tech    Anuj   24          Delhi\n",
       "MCA      Rahul   54         Mumbai\n",
       "BCA       Ajay   33     Uttrakhand\n",
       "B.Com    Mohan   43         Punjab\n",
       "MBA     Tushar   26  Uttar Pradesh"
      ]
     },
     "execution_count": 48,
     "metadata": {},
     "output_type": "execute_result"
    }
   ],
   "source": [
    "w1.head()"
   ]
  },
  {
   "cell_type": "code",
   "execution_count": 50,
   "id": "023af67b",
   "metadata": {},
   "outputs": [
    {
     "data": {
      "text/html": [
       "<div>\n",
       "<style scoped>\n",
       "    .dataframe tbody tr th:only-of-type {\n",
       "        vertical-align: middle;\n",
       "    }\n",
       "\n",
       "    .dataframe tbody tr th {\n",
       "        vertical-align: top;\n",
       "    }\n",
       "\n",
       "    .dataframe thead th {\n",
       "        text-align: right;\n",
       "    }\n",
       "</style>\n",
       "<table border=\"1\" class=\"dataframe\">\n",
       "  <thead>\n",
       "    <tr style=\"text-align: right;\">\n",
       "      <th></th>\n",
       "      <th>Name</th>\n",
       "      <th>Age</th>\n",
       "      <th>Place</th>\n",
       "      <th>Course</th>\n",
       "    </tr>\n",
       "  </thead>\n",
       "  <tbody>\n",
       "    <tr>\n",
       "      <th>0</th>\n",
       "      <td>Anuj</td>\n",
       "      <td>24</td>\n",
       "      <td>Delhi</td>\n",
       "      <td>B-tech</td>\n",
       "    </tr>\n",
       "    <tr>\n",
       "      <th>1</th>\n",
       "      <td>Rahul</td>\n",
       "      <td>54</td>\n",
       "      <td>Mumbai</td>\n",
       "      <td>MCA</td>\n",
       "    </tr>\n",
       "    <tr>\n",
       "      <th>4</th>\n",
       "      <td>Tushar</td>\n",
       "      <td>26</td>\n",
       "      <td>Uttar Pradesh</td>\n",
       "      <td>MBA</td>\n",
       "    </tr>\n",
       "  </tbody>\n",
       "</table>\n",
       "</div>"
      ],
      "text/plain": [
       "     Name  Age          Place  Course\n",
       "0    Anuj   24          Delhi  B-tech\n",
       "1   Rahul   54         Mumbai     MCA\n",
       "4  Tushar   26  Uttar Pradesh     MBA"
      ]
     },
     "execution_count": 50,
     "metadata": {},
     "output_type": "execute_result"
    }
   ],
   "source": [
    "df[df[\"Age\"]%2==0]\n"
   ]
  },
  {
   "cell_type": "code",
   "execution_count": 52,
   "id": "c4085699",
   "metadata": {},
   "outputs": [
    {
     "data": {
      "text/html": [
       "<div>\n",
       "<style scoped>\n",
       "    .dataframe tbody tr th:only-of-type {\n",
       "        vertical-align: middle;\n",
       "    }\n",
       "\n",
       "    .dataframe tbody tr th {\n",
       "        vertical-align: top;\n",
       "    }\n",
       "\n",
       "    .dataframe thead th {\n",
       "        text-align: right;\n",
       "    }\n",
       "</style>\n",
       "<table border=\"1\" class=\"dataframe\">\n",
       "  <thead>\n",
       "    <tr style=\"text-align: right;\">\n",
       "      <th></th>\n",
       "      <th>Name</th>\n",
       "      <th>Age</th>\n",
       "      <th>Place</th>\n",
       "      <th>Course</th>\n",
       "    </tr>\n",
       "  </thead>\n",
       "  <tbody>\n",
       "    <tr>\n",
       "      <th>0</th>\n",
       "      <td>Anuj</td>\n",
       "      <td>24</td>\n",
       "      <td>Delhi</td>\n",
       "      <td>B-tech</td>\n",
       "    </tr>\n",
       "    <tr>\n",
       "      <th>1</th>\n",
       "      <td>Rahul</td>\n",
       "      <td>54</td>\n",
       "      <td>Mumbai</td>\n",
       "      <td>MCA</td>\n",
       "    </tr>\n",
       "    <tr>\n",
       "      <th>4</th>\n",
       "      <td>Tushar</td>\n",
       "      <td>26</td>\n",
       "      <td>Uttar Pradesh</td>\n",
       "      <td>MBA</td>\n",
       "    </tr>\n",
       "  </tbody>\n",
       "</table>\n",
       "</div>"
      ],
      "text/plain": [
       "     Name  Age          Place  Course\n",
       "0    Anuj   24          Delhi  B-tech\n",
       "1   Rahul   54         Mumbai     MCA\n",
       "4  Tushar   26  Uttar Pradesh     MBA"
      ]
     },
     "execution_count": 52,
     "metadata": {},
     "output_type": "execute_result"
    }
   ],
   "source": [
    "df.query(\"Age%2==0\") "
   ]
  },
  {
   "cell_type": "code",
   "execution_count": 57,
   "id": "4d547296",
   "metadata": {},
   "outputs": [
    {
     "data": {
      "text/plain": [
       "Index(['First Name', 'Age in Years', 'Location', 'Career'], dtype='object')"
      ]
     },
     "execution_count": 57,
     "metadata": {},
     "output_type": "execute_result"
    }
   ],
   "source": [
    "df.columns=[\"First Name\",\"Age in Years\",\"Location\",\"Career\"]\n",
    "df.columns"
   ]
  },
  {
   "cell_type": "code",
   "execution_count": 58,
   "id": "f6f54ec1",
   "metadata": {},
   "outputs": [
    {
     "data": {
      "text/html": [
       "<div>\n",
       "<style scoped>\n",
       "    .dataframe tbody tr th:only-of-type {\n",
       "        vertical-align: middle;\n",
       "    }\n",
       "\n",
       "    .dataframe tbody tr th {\n",
       "        vertical-align: top;\n",
       "    }\n",
       "\n",
       "    .dataframe thead th {\n",
       "        text-align: right;\n",
       "    }\n",
       "</style>\n",
       "<table border=\"1\" class=\"dataframe\">\n",
       "  <thead>\n",
       "    <tr style=\"text-align: right;\">\n",
       "      <th></th>\n",
       "      <th>First Name</th>\n",
       "      <th>Age in Years</th>\n",
       "      <th>Location</th>\n",
       "      <th>Career</th>\n",
       "    </tr>\n",
       "  </thead>\n",
       "  <tbody>\n",
       "    <tr>\n",
       "      <th>0</th>\n",
       "      <td>Anuj</td>\n",
       "      <td>24</td>\n",
       "      <td>Delhi</td>\n",
       "      <td>B-tech</td>\n",
       "    </tr>\n",
       "    <tr>\n",
       "      <th>1</th>\n",
       "      <td>Rahul</td>\n",
       "      <td>54</td>\n",
       "      <td>Mumbai</td>\n",
       "      <td>MCA</td>\n",
       "    </tr>\n",
       "    <tr>\n",
       "      <th>2</th>\n",
       "      <td>Ajay</td>\n",
       "      <td>33</td>\n",
       "      <td>Uttrakhand</td>\n",
       "      <td>BCA</td>\n",
       "    </tr>\n",
       "    <tr>\n",
       "      <th>3</th>\n",
       "      <td>Mohan</td>\n",
       "      <td>43</td>\n",
       "      <td>Punjab</td>\n",
       "      <td>B.Com</td>\n",
       "    </tr>\n",
       "    <tr>\n",
       "      <th>4</th>\n",
       "      <td>Tushar</td>\n",
       "      <td>26</td>\n",
       "      <td>Uttar Pradesh</td>\n",
       "      <td>MBA</td>\n",
       "    </tr>\n",
       "  </tbody>\n",
       "</table>\n",
       "</div>"
      ],
      "text/plain": [
       "  First Name  Age in Years       Location  Career\n",
       "0       Anuj            24          Delhi  B-tech\n",
       "1      Rahul            54         Mumbai     MCA\n",
       "2       Ajay            33     Uttrakhand     BCA\n",
       "3      Mohan            43         Punjab   B.Com\n",
       "4     Tushar            26  Uttar Pradesh     MBA"
      ]
     },
     "execution_count": 58,
     "metadata": {},
     "output_type": "execute_result"
    }
   ],
   "source": [
    "df.head()"
   ]
  },
  {
   "cell_type": "markdown",
   "id": "4a68e843",
   "metadata": {},
   "source": [
    "# MATPLOTLIB CHARTS"
   ]
  },
  {
   "cell_type": "markdown",
   "id": "3769c503",
   "metadata": {},
   "source": [
    "1) Barchart\n",
    "\n",
    "\n",
    "\n",
    "\n",
    "\n"
   ]
  },
  {
   "cell_type": "markdown",
   "id": "9133a68f",
   "metadata": {},
   "source": [
    "2) Line Chart"
   ]
  },
  {
   "cell_type": "markdown",
   "id": "cae2189e",
   "metadata": {},
   "source": [
    "3) Scatter Chart"
   ]
  },
  {
   "cell_type": "markdown",
   "id": "5e11c91c",
   "metadata": {},
   "source": [
    "4) Pie Chart"
   ]
  },
  {
   "cell_type": "markdown",
   "id": "12f0ce31",
   "metadata": {},
   "source": [
    "5) Histogram "
   ]
  },
  {
   "cell_type": "markdown",
   "id": "761d6175",
   "metadata": {},
   "source": [
    "\n",
    "6) Boxplot"
   ]
  },
  {
   "cell_type": "markdown",
   "id": "c26c8c9a",
   "metadata": {},
   "source": [
    "# BarChart"
   ]
  },
  {
   "cell_type": "markdown",
   "id": "b19d1a68",
   "metadata": {},
   "source": [
    "It is Used to Represent the Numerical Values (which are comparable) corresponding to different categories"
   ]
  },
  {
   "cell_type": "code",
   "execution_count": 78,
   "id": "71d09ef4",
   "metadata": {},
   "outputs": [],
   "source": [
    "#syntax\n",
    "import matplotlib.pyplot as plt\n",
    "import numpy as np\n",
    "import pandas as pd\n"
   ]
  },
  {
   "cell_type": "code",
   "execution_count": 79,
   "id": "ce3bda15",
   "metadata": {},
   "outputs": [
    {
     "name": "stdout",
     "output_type": "stream",
     "text": [
      "10 10\n"
     ]
    }
   ],
   "source": [
    "list1=[2,4,6,8,10,12,14,16,18,20]\n",
    "list2=[8,6,26,12,21,4,20,14,27,10]\n",
    "print(len(list1),len(list2))"
   ]
  },
  {
   "cell_type": "code",
   "execution_count": 80,
   "id": "ba7f96ec",
   "metadata": {},
   "outputs": [
    {
     "data": {
      "image/png": "[encoded data removed]",
      "text/plain": [
       "<Figure size 432x288 with 1 Axes>"
      ]
     },
     "metadata": {
      "needs_background": "light"
     },
     "output_type": "display_data"
    }
   ],
   "source": [
    "#list1 will be Represented on x-axis and list2 will be represented on y-axis\n",
    "plt.bar(list1,list2)\n",
    "plt.show()"
   ]
  },
  {
   "cell_type": "markdown",
   "id": "8c124654",
   "metadata": {},
   "source": [
    "we can add different customization"
   ]
  },
  {
   "cell_type": "code",
   "execution_count": 81,
   "id": "2a077214",
   "metadata": {},
   "outputs": [
    {
     "data": {
      "image/png": "[encoded data removed]",
      "text/plain": [
       "<Figure size 432x288 with 1 Axes>"
      ]
     },
     "metadata": {
      "needs_background": "light"
     },
     "output_type": "display_data"
    }
   ],
   "source": [
    "plt.bar(list1,list2,color=\"yellow\",label=\"Variation\",width=1)\n",
    "plt.title(\"List1 vs List2\")\n",
    "plt.xlabel(\"List1\")\n",
    "plt.ylabel(\"List2\")\n",
    "plt.legend()\n",
    "plt.grid()\n",
    "# plt.xlim(0,15)\n",
    "# plt.ylim(0,20)\n",
    "plt.show()\n",
    "\n"
   ]
  },
  {
   "cell_type": "markdown",
   "id": "f9a2346e",
   "metadata": {},
   "source": [
    "# Line Chart"
   ]
  },
  {
   "cell_type": "markdown",
   "id": "19225a45",
   "metadata": {},
   "source": [
    "Generally used to plot date time based values on x-axis and some other varying numerical feature on y-axis"
   ]
  },
  {
   "cell_type": "code",
   "execution_count": 82,
   "id": "f213512d",
   "metadata": {},
   "outputs": [
    {
     "name": "stdout",
     "output_type": "stream",
     "text": [
      "[2, 4, 6, 8, 10, 12, 14, 16, 18, 20]\n",
      "[8, 6, 26, 12, 21, 4, 20, 14, 27, 10]\n"
     ]
    }
   ],
   "source": [
    "print(list1)\n",
    "print(list2)"
   ]
  },
  {
   "cell_type": "code",
   "execution_count": 88,
   "id": "78759211",
   "metadata": {},
   "outputs": [
    {
     "data": {
      "image/png": "[encoded data removed]",
      "text/plain": [
       "<Figure size 432x288 with 1 Axes>"
      ]
     },
     "metadata": {
      "needs_background": "light"
     },
     "output_type": "display_data"
    }
   ],
   "source": [
    "plt.plot(list1,list2,color=\"blue\",marker=\"o\")\n",
    "plt.grid()\n",
    "plt.show()"
   ]
  },
  {
   "cell_type": "markdown",
   "id": "1139a55c",
   "metadata": {},
   "source": [
    "# Scatter Chart"
   ]
  },
  {
   "cell_type": "code",
   "execution_count": 8,
   "id": "c0dab8e1",
   "metadata": {},
   "outputs": [
    {
     "name": "stdout",
     "output_type": "stream",
     "text": [
      "[2, 5, 3, 5, 3]\n",
      "[3, 2, 5, 3, 6]\n",
      "[4, 12, 10, 15, 16]\n"
     ]
    }
   ],
   "source": [
    "l1=[2,5,3,5,3]\n",
    "l2=[3,2,5,3,6]\n",
    "l3=[4,12,10,15,16]\n",
    "print(l1)\n",
    "print(l2)\n",
    "print(l3)"
   ]
  },
  {
   "cell_type": "code",
   "execution_count": 9,
   "id": "90e24591",
   "metadata": {},
   "outputs": [
    {
     "data": {
      "image/png": "[encoded data removed]",
      "text/plain": [
       "<Figure size 432x288 with 1 Axes>"
      ]
     },
     "metadata": {
      "needs_background": "light"
     },
     "output_type": "display_data"
    }
   ],
   "source": [
    "#s is the Size of the Marker\n",
    "import matplotlib.pyplot as plt\n",
    "\n",
    "plt.scatter(l1,l2,marker=\"o\",color=\"red\",s=150)\n",
    "plt.scatter(l1,l3,marker=\"o\",color=\"orange\",s=100)\n",
    "plt.grid()\n",
    "plt.show()"
   ]
  },
  {
   "cell_type": "markdown",
   "id": "2807dfae",
   "metadata": {},
   "source": [
    "# Pie Chart"
   ]
  },
  {
   "cell_type": "markdown",
   "id": "dd4c224d",
   "metadata": {},
   "source": [
    "Pie chart depits percentage distribution. unlike Bar,Line and Scatter chart,it uses the single numerical column to depict the corresponding percentage values. It also need lables to identify those percentage values to a catagory. Pie chart data is not represented on x-y axis \n"
   ]
  },
  {
   "cell_type": "code",
   "execution_count": 18,
   "id": "5bb900f6",
   "metadata": {},
   "outputs": [],
   "source": [
    "marks=[78,65,90,85,79,83]\n",
    "sub=[\"Jawa\",\"c++\",\"Python\",\"JS\",\"CSS\",\"WebD\"]\n"
   ]
  },
  {
   "cell_type": "code",
   "execution_count": 19,
   "id": "406325f2",
   "metadata": {},
   "outputs": [
    {
     "name": "stdout",
     "output_type": "stream",
     "text": [
      "0.13541666666666666\n"
     ]
    }
   ],
   "source": [
    "python_per=marks[1]/sum(marks)\n",
    "print(python_per)\n"
   ]
  },
  {
   "cell_type": "code",
   "execution_count": 22,
   "id": "4e3512d5",
   "metadata": {},
   "outputs": [
    {
     "data": {
      "image/png": "[encoded data removed]",
      "text/plain": [
       "<Figure size 432x288 with 1 Axes>"
      ]
     },
     "metadata": {},
     "output_type": "display_data"
    }
   ],
   "source": [
    "#to create the pie chart\n",
    "#autopct means how many decimal places you want to display after the point\n",
    "plt.pie(x=marks,labels=sub,autopct='%.2f%%')\n",
    "plt.show()"
   ]
  },
  {
   "cell_type": "code",
   "execution_count": 24,
   "id": "55fcfc2c",
   "metadata": {},
   "outputs": [
    {
     "data": {
      "image/png": "[encoded data removed]",
      "text/plain": [
       "<Figure size 432x288 with 1 Axes>"
      ]
     },
     "metadata": {},
     "output_type": "display_data"
    }
   ],
   "source": [
    "#More Customization\n",
    "#shadow is for creating the shadow of the pie chart giving you the 3d effect\n",
    "#explode is for highlighting the particular value\n",
    "plt.pie(x=marks,labels=sub,autopct='%.2f%%',shadow=True,explode=(0,0,0.2,0,0,0))\n",
    "plt.show()"
   ]
  },
  {
   "cell_type": "markdown",
   "id": "7b6a430f",
   "metadata": {},
   "source": [
    "# Histogram "
   ]
  },
  {
   "cell_type": "markdown",
   "id": "882099f7",
   "metadata": {},
   "source": [
    "It is used to represent frequency distribution . Histogram divides the Data into bins(groups) of same range"
   ]
  },
  {
   "cell_type": "code",
   "execution_count": 33,
   "id": "34768a86",
   "metadata": {},
   "outputs": [
    {
     "name": "stdout",
     "output_type": "stream",
     "text": [
      "[2, 5, 5, 8, 2, 6, 4, 5, 8, 5, 1, 6, 5, 2, 5, 4, 9, 5]\n"
     ]
    }
   ],
   "source": [
    "d=[2,5,5,8,2,6,4,5,8,5,1,6,5,2,5,4,9,5]\n",
    "print(d)"
   ]
  },
  {
   "cell_type": "code",
   "execution_count": 34,
   "id": "880dcdc9",
   "metadata": {},
   "outputs": [
    {
     "name": "stdout",
     "output_type": "stream",
     "text": [
      "Counter({5: 7, 2: 3, 8: 2, 6: 2, 4: 2, 1: 1, 9: 1})\n"
     ]
    }
   ],
   "source": [
    "from collections import Counter \n",
    "freq=Counter (d)\n",
    "print(freq)"
   ]
  },
  {
   "cell_type": "code",
   "execution_count": 35,
   "id": "aba338ba",
   "metadata": {},
   "outputs": [
    {
     "data": {
      "image/png": "[encoded data removed]",
      "text/plain": [
       "<Figure size 432x288 with 1 Axes>"
      ]
     },
     "metadata": {
      "needs_background": "light"
     },
     "output_type": "display_data"
    }
   ],
   "source": [
    "#ploting the Histogram \n",
    "plt.hist(d,color=\"cyan\")\n",
    "plt.show()"
   ]
  },
  {
   "cell_type": "code",
   "execution_count": 39,
   "id": "c1d0b229",
   "metadata": {},
   "outputs": [
    {
     "name": "stdout",
     "output_type": "stream",
     "text": [
      "Counter({5: 7, 2: 3, 8: 2, 6: 2, 4: 2, 1: 1, 9: 1})\n"
     ]
    },
    {
     "data": {
      "image/png": "[encoded data removed]",
      "text/plain": [
       "<Figure size 432x288 with 1 Axes>"
      ]
     },
     "metadata": {
      "needs_background": "light"
     },
     "output_type": "display_data"
    }
   ],
   "source": [
    "plt.hist(d,bins=[1,2,3,4,5,6,7],color=\"maroon\")\n",
    "plt.grid()\n",
    "print(freq)\n",
    "plt.show()\n",
    "# 1st bin=> [1,2) => 1 is inclusive, 2 is exclusive\n",
    "# 2nd bin=> [2,3) => 2 is inclusive, 3 is exclusive\n",
    "# 3rd bin=> [3,4) => 3 is inclusive, 4 is exclusive\n",
    "# 4th bin=> [4,5) => 4 is inclusive, 5 is exclusive\n",
    "# 5th bin=> [5,6) => 5 is inclusive, 6 is exclusive\n",
    "# 6th bin=> [6,7] => 6 is inclusive, 7 is inclusive\n"
   ]
  },
  {
   "cell_type": "code",
   "execution_count": null,
   "id": "8f906c95",
   "metadata": {},
   "outputs": [],
   "source": []
  }
 ],
 "metadata": {
  "kernelspec": {
   "display_name": "Python 3 (ipykernel)",
   "language": "python",
   "name": "python3"
  },
  "language_info": {
   "codemirror_mode": {
    "name": "ipython",
    "version": 3
   },
   "file_extension": ".py",
   "mimetype": "text/x-python",
   "name": "python",
   "nbconvert_exporter": "python",
   "pygments_lexer": "ipython3",
   "version": "3.9.7"
  }
 },
 "nbformat": 4,
 "nbformat_minor": 5
}
